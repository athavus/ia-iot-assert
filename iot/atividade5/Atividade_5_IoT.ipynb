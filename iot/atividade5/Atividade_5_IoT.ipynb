{
  "cells": [
    {
      "cell_type": "code",
      "execution_count": 1,
      "metadata": {
        "colab": {
          "base_uri": "https://localhost:8080/"
        },
        "id": "96Fdco41ni6t",
        "outputId": "c9cbf2a7-1a3d-496f-be1c-0bf182188f43"
      },
      "outputs": [
        {
          "output_type": "stream",
          "name": "stdout",
          "text": [
            "Collecting paho-mqtt\n",
            "  Downloading paho_mqtt-2.1.0-py3-none-any.whl.metadata (23 kB)\n",
            "Downloading paho_mqtt-2.1.0-py3-none-any.whl (67 kB)\n",
            "\u001b[?25l   \u001b[90m━━━━━━━━━━━━━━━━━━━━━━━━━━━━━━━━━━━━━━━━\u001b[0m \u001b[32m0.0/67.2 kB\u001b[0m \u001b[31m?\u001b[0m eta \u001b[36m-:--:--\u001b[0m\r\u001b[2K   \u001b[90m━━━━━━━━━━━━━━━━━━━━━━━━━━━━━━━━━━━━━━━━\u001b[0m \u001b[32m67.2/67.2 kB\u001b[0m \u001b[31m2.6 MB/s\u001b[0m eta \u001b[36m0:00:00\u001b[0m\n",
            "\u001b[?25hInstalling collected packages: paho-mqtt\n",
            "Successfully installed paho-mqtt-2.1.0\n"
          ]
        }
      ],
      "source": [
        "!pip install paho-mqtt"
      ]
    },
    {
      "cell_type": "code",
      "execution_count": null,
      "metadata": {
        "colab": {
          "base_uri": "https://localhost:8080/"
        },
        "id": "914AX7tsnkSP",
        "outputId": "9c0fc5ff-89d7-41b4-bdd0-a4e9fafff85e"
      },
      "outputs": [
        {
          "output_type": "stream",
          "name": "stderr",
          "text": [
            "<ipython-input-3-db3909a20f5a>:16: DeprecationWarning: Callback API version 1 is deprecated, update to latest version\n",
            "  client = mqtt.Client() #Cria uma instância do cliente MQTT.\n"
          ]
        },
        {
          "output_type": "stream",
          "name": "stdout",
          "text": [
            "topic/distancia/sensor: 335.66\n",
            "topic/distancia/sensor: 335.66\n",
            "topic/distancia/sensor: 335.66topic/distancia/sensor: 335.66\n",
            "\n",
            "topic/distancia/sensor: 335.66\n",
            "topic/distancia/sensor: 335.66\n",
            "topic/distancia/sensor: 82.09\n",
            "topic/distancia/sensor: 82.09\n",
            "topic/distancia/sensor: 167.29topic/distancia/sensor: 167.29\n",
            "\n",
            "topic/distancia/sensor: 293.05\n",
            "topic/distancia/sensor: 293.05\n"
          ]
        }
      ],
      "source": [
        "import time #pra fazer pausas e controle de tempo.\n",
        "import paho.mqtt.client as mqtt #paho.mqtt.client: a biblioteca cliente MQTT em Python\n",
        "\n",
        "\n",
        "# Callback para quando uma mensagem chegar\n",
        "def on_message(client, userdata, msg): #Define a função que será chamada automaticamente quando uma mensagem for recebida do broker.\n",
        "              #client: o objeto cliente MQTT.\n",
        "                       #userdata: qualquer dado extra que você queira passar (não usado aqui).\n",
        "                                #msg: o objeto da mensagem recebida, contendo:\n",
        "\n",
        "    print(f\"{msg.topic}: {msg.payload.decode()}\") #\n",
        "            #o tópico da mensagem.\n",
        "                          #o conteúdo (em bytes), que a gente decodifica com .decode()\n",
        "\n",
        "# Criando cliente MQTT\n",
        "client = mqtt.Client() #Cria uma instância do cliente MQTT.\n",
        "client.on_message = on_message #Associa a função on_message() ao evento de \"mensagem recebida\".\n",
        "\n",
        "# Conectando ao broker MQTT\n",
        "client.connect(\"test.mosquitto.org\", 1883, 60)\n",
        "              #Host: test.mosquitto.org\n",
        "                                     #Porta: 1883 (padrão para conexões MQTT sem TLS)\n",
        "                                           #60: tempo de keep-alive (segundos entre pings automáticos).\n",
        "\n",
        "# Inscrevendo-se no tópico desejado\n",
        "client.subscribe(\"topic/distancia/sensor\")\n",
        "\n",
        "# Inicia o loop em segundo plano (sem travar a célula do Colab)\n",
        "client.loop_start()\n",
        "\n",
        "# Roda por 60 segundos e depois para\n",
        "time.sleep(60)\n",
        "client.loop_stop()"
      ]
    },
    {
      "cell_type": "code",
      "source": [],
      "metadata": {
        "id": "dmw0qIRAPEzx"
      },
      "execution_count": null,
      "outputs": []
    }
  ],
  "metadata": {
    "colab": {
      "provenance": []
    },
    "kernelspec": {
      "display_name": "Python 3",
      "name": "python3"
    },
    "language_info": {
      "name": "python"
    }
  },
  "nbformat": 4,
  "nbformat_minor": 0
}